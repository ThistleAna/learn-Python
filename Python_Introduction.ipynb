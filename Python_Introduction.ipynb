{
  "nbformat": 4,
  "nbformat_minor": 0,
  "metadata": {
    "colab": {
      "name": "Python-Introduction",
      "provenance": [],
      "authorship_tag": "ABX9TyO8/lFedtsyJQ1ddL8tdZBF",
      "include_colab_link": true
    },
    "kernelspec": {
      "name": "python3",
      "display_name": "Python 3"
    },
    "language_info": {
      "name": "python"
    }
  },
  "cells": [
    {
      "cell_type": "markdown",
      "metadata": {
        "id": "view-in-github",
        "colab_type": "text"
      },
      "source": [
        "<a href=\"https://colab.research.google.com/github/ThistleAna/learn-Python/blob/main/Python_Introduction.ipynb\" target=\"_parent\"><img src=\"https://colab.research.google.com/assets/colab-badge.svg\" alt=\"Open In Colab\"/></a>"
      ]
    },
    {
      "cell_type": "markdown",
      "metadata": {
        "id": "TWeGA0yLdaMi"
      },
      "source": [
        "I begin to learn Python all over again to achieve mastery!\n",
        "WHOOP WHOOP!\n",
        "\n",
        "For this excerise, I am using Kaagle to learn Python.\n",
        "https://www.kaggle.com/colinmorris/hello-python\n",
        "\n",
        "This intro I will learn Python syntax, variable, assignment and numbers."
      ]
    },
    {
      "cell_type": "code",
      "metadata": {
        "colab": {
          "base_uri": "https://localhost:8080/"
        },
        "id": "AfQYmJUqdT8u",
        "outputId": "e30caf97-dcb8-43d2-da7c-4f32ac6d889f"
      },
      "source": [
        "print(\"You've successfully run some Python code\")\n",
        "print(\"Congratulations!\")\n",
        "print(\"Keep learning and you will succeed!\")"
      ],
      "execution_count": 1,
      "outputs": [
        {
          "output_type": "stream",
          "text": [
            "You've successfully run some Python code\n",
            "Congratulations!\n",
            "Keep learning and you will succeed!\n"
          ],
          "name": "stdout"
        }
      ]
    },
    {
      "cell_type": "markdown",
      "metadata": {
        "id": "Aowa_mfmfkJB"
      },
      "source": [
        "Exercise 1: Calculate the area of circle"
      ]
    },
    {
      "cell_type": "code",
      "metadata": {
        "colab": {
          "base_uri": "https://localhost:8080/"
        },
        "id": "QTU1IAUEfgyL",
        "outputId": "4296ea3c-fb28-4402-b3df-a97ca21a7aeb"
      },
      "source": [
        "pi = 3.14159 # approximate\n",
        "diameter = 3\n",
        "\n",
        "# Create a variable called 'radius' equal to half the diameter\n",
        "radius = diameter / 2\n",
        "\n",
        "# Create a variable called 'area', using the formula for the area of a circle: pi times the radius squared\n",
        "area = pi* (radius**2)\n",
        "\n",
        "print (area)\n"
      ],
      "execution_count": 3,
      "outputs": [
        {
          "output_type": "stream",
          "text": [
            "7.0685775\n"
          ],
          "name": "stdout"
        }
      ]
    },
    {
      "cell_type": "markdown",
      "metadata": {
        "id": "QkbWNyXdfo-V"
      },
      "source": [
        "Excercise 2: "
      ]
    },
    {
      "cell_type": "code",
      "metadata": {
        "colab": {
          "base_uri": "https://localhost:8080/"
        },
        "id": "WD6JaeZVhKxs",
        "outputId": "a509fc39-4240-400f-ed63-0b0c5120c24e"
      },
      "source": [
        "########### Setup code - don't touch this part ######################\n",
        "a = [1, 2, 3]\n",
        "b = [3, 2, 1]\n",
        "######################################################################\n",
        "\n",
        "# Your code goes here. Swap the values to which a and b refer.\n",
        "\n",
        "swap = b\n",
        "b = a\n",
        "a = swap\n",
        "\n",
        "# or \n",
        "# a,b = b,a\n",
        "\n",
        "print (a)\n",
        "print (b)\n",
        "######################################################################\n"
      ],
      "execution_count": 13,
      "outputs": [
        {
          "output_type": "stream",
          "text": [
            "[3, 2, 1]\n",
            "[1, 2, 3]\n"
          ],
          "name": "stdout"
        }
      ]
    },
    {
      "cell_type": "markdown",
      "metadata": {
        "id": "PUtvVVYGh4ru"
      },
      "source": [
        "Excercise 3:\n",
        "Alice, Bob and Carol have agreed to pool their Halloween candy and split it evenly among themselves. For the sake of their friendship, any candies left over will be smashed. For example, if they collectively bring home 91 candies, they'll take 30 each and smash 1.\n",
        "Write an arithmetic expression below to calculate how many candies they must smash for a given haul."
      ]
    },
    {
      "cell_type": "code",
      "metadata": {
        "colab": {
          "base_uri": "https://localhost:8080/"
        },
        "id": "fL73V4kljJH4",
        "outputId": "cc423ed5-cafd-4d1d-f7d1-eacb9ef2353f"
      },
      "source": [
        "# Variables representing the number of candies collected by alice, bob, and carol\n",
        "alice_candies = 121\n",
        "bob_candies = 77\n",
        "carol_candies = 109\n",
        "\n",
        "# Your code goes here! Replace the right-hand side of this assignment with an expression\n",
        "# involving alice_candies, bob_candies, and carol_candies\n",
        "to_smash = (alice_candies + bob_candies + carol_candies)%3\n",
        "\n",
        "print (to_smash)"
      ],
      "execution_count": 15,
      "outputs": [
        {
          "output_type": "stream",
          "text": [
            "1\n"
          ],
          "name": "stdout"
        }
      ]
    }
  ]
}