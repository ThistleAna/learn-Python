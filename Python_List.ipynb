{
  "nbformat": 4,
  "nbformat_minor": 0,
  "metadata": {
    "colab": {
      "name": "Python-List",
      "provenance": [],
      "authorship_tag": "ABX9TyPxhWrnJFWho9tE9JJypwXS",
      "include_colab_link": true
    },
    "kernelspec": {
      "name": "python3",
      "display_name": "Python 3"
    },
    "language_info": {
      "name": "python"
    }
  },
  "cells": [
    {
      "cell_type": "markdown",
      "metadata": {
        "id": "view-in-github",
        "colab_type": "text"
      },
      "source": [
        "<a href=\"https://colab.research.google.com/github/ThistleAna/learn-Python/blob/main/Python_List.ipynb\" target=\"_parent\"><img src=\"https://colab.research.google.com/assets/colab-badge.svg\" alt=\"Open In Colab\"/></a>"
      ]
    },
    {
      "cell_type": "markdown",
      "metadata": {
        "id": "UqexzgvMaS0b"
      },
      "source": [
        "**Excercise using list, inculding indexing, slicing and mutating**"
      ]
    },
    {
      "cell_type": "markdown",
      "metadata": {
        "id": "k09jet7baz8O"
      },
      "source": [
        "**Excercise 1**:"
      ]
    },
    {
      "cell_type": "code",
      "metadata": {
        "colab": {
          "base_uri": "https://localhost:8080/"
        },
        "id": "lovOTF46Y1RB",
        "outputId": "3edc5e41-3e83-4bd2-c746-c50bd1248147"
      },
      "source": [
        "def select_second(L):\n",
        "    \"\"\"Return the second element of the given list. If the list has no second\n",
        "    element, return None.\n",
        "    \"\"\"\n",
        "    if len(L)<2:\n",
        "        return None\n",
        "    else:\n",
        "        return L[1]\n",
        "\n",
        "select_second([1,4,3])"
      ],
      "execution_count": 6,
      "outputs": [
        {
          "output_type": "execute_result",
          "data": {
            "text/plain": [
              "4"
            ]
          },
          "metadata": {
            "tags": []
          },
          "execution_count": 6
        }
      ]
    },
    {
      "cell_type": "markdown",
      "metadata": {
        "id": "JIVKrMqUa7S1"
      },
      "source": [
        "**Excercise 2**:\n",
        "You are analyzing sports teams. Members of each team are stored in a list. The Coach is the first name in the list, the captain is the second name in the list, and other players are listed after that. These lists are stored in another list, which starts with the best team and proceeds through the list to the worst team last. Complete the function below to select the captain of the worst team."
      ]
    },
    {
      "cell_type": "code",
      "metadata": {
        "colab": {
          "base_uri": "https://localhost:8080/",
          "height": 35
        },
        "id": "3gRi8u6Ha-9G",
        "outputId": "43e6ec5a-b2a5-4b74-c349-ef44698f1603"
      },
      "source": [
        "def losing_team_captain(teams):\n",
        "    \"\"\"Given a list of teams, where each team is a list of names, return the 2nd player (captain)\n",
        "    from the last listed team\n",
        "    \"\"\"\n",
        "    return (teams[-1][1])\n",
        "\n",
        "losing_team_captain(['Budi', 'Roger', 'Amina', 'Dayana'])\n"
      ],
      "execution_count": 9,
      "outputs": [
        {
          "output_type": "execute_result",
          "data": {
            "application/vnd.google.colaboratory.intrinsic+json": {
              "type": "string"
            },
            "text/plain": [
              "'a'"
            ]
          },
          "metadata": {
            "tags": []
          },
          "execution_count": 9
        }
      ]
    },
    {
      "cell_type": "markdown",
      "metadata": {
        "id": "QZVS7IONdBBP"
      },
      "source": [
        "**Excercise 3**:\n",
        "The next iteration of Mario Kart will feature an extra-infuriating new item, the Purple Shell. When used, it warps the last place racer into first place and the first place racer into last place. Complete the function below to implement the Purple Shell's effect."
      ]
    },
    {
      "cell_type": "code",
      "metadata": {
        "colab": {
          "base_uri": "https://localhost:8080/"
        },
        "id": "1qciN7CKeDb8",
        "outputId": "037bb3d3-d768-4f04-b075-3ea0c3775b00"
      },
      "source": [
        "def purple_shell(racers):\n",
        "    \"\"\"Given a list of racers, set the first place racer (at the front of the list) to last\n",
        "    place and vice versa.\n",
        "    \n",
        "    >>> r = [\"Mario\", \"Bowser\", \"Luigi\"]\n",
        "    >>> purple_shell(r)\n",
        "    >>> r\n",
        "    [\"Luigi\", \"Bowser\", \"Mario\"]\n",
        "    \"\"\"\n",
        "    temp = racers[0]\n",
        "    racers[0]= racers [-1]\n",
        "    racers[-1]= temp\n",
        "    \n",
        "    return racers\n",
        "\n",
        "purple_shell([\"Dhani\", \"Lasso\", \"Bintang\"])"
      ],
      "execution_count": 15,
      "outputs": [
        {
          "output_type": "execute_result",
          "data": {
            "text/plain": [
              "['Bintang', 'Lasso', 'Dhani']"
            ]
          },
          "metadata": {
            "tags": []
          },
          "execution_count": 15
        }
      ]
    },
    {
      "cell_type": "markdown",
      "metadata": {
        "id": "n71x-TfZemFH"
      },
      "source": [
        "**Excercise 4**:\n",
        "What are the lengths of the following lists? Fill in the variable lengths with your predictions. (Try to make a prediction for each list without just calling len() on it"
      ]
    },
    {
      "cell_type": "code",
      "metadata": {
        "id": "C-PT1P00fYx4"
      },
      "source": [
        "a = [1, 2, 3]\n",
        "b = [1, [2, 3]]\n",
        "c = []\n",
        "d = [1, 2, 3][1:]\n",
        "\n",
        "# Put your predictions in the list below. Lengths should contain 4 numbers, the\n",
        "# first being the length of a, the second being the length of b and so on.\n",
        "lengths = [3,2,0,2]"
      ],
      "execution_count": 16,
      "outputs": []
    },
    {
      "cell_type": "markdown",
      "metadata": {
        "id": "wCxk4Zs6fcoX"
      },
      "source": [
        "a: There are three items in this list. Nothing tricky yet.\n",
        "b: The list [2, 3] counts as a single item. It has one item before it. So we have 2 items in the list\n",
        "c: The empty list has 0 items\n",
        "d: The expression is the same as the list [2, 3], which has length 2."
      ]
    },
    {
      "cell_type": "markdown",
      "metadata": {
        "id": "MXPbziZffgfk"
      },
      "source": [
        "**Excercise 5**:\n",
        "We're using lists to record people who attended our party and what order they arrived in. For example, the following list represents a party with 7 guests, in which Adela showed up first and Ford was the last to arrive:\n",
        "\n",
        "party_attendees = ['Adela', 'Fleda', 'Owen', 'May', 'Mona', 'Gilbert', 'Ford']\n",
        "A guest is considered 'fashionably late' if they arrived after at least half of the party's guests. However, they must not be the very last guest (that's taking it too far). In the above example, Mona and Gilbert are the only guests who were fashionably late.\n",
        "\n",
        "Complete the function below which takes a list of party attendees as well as a person, and tells us whether that person is fashionably late."
      ]
    },
    {
      "cell_type": "code",
      "metadata": {
        "id": "Xnsmj12qfpWl"
      },
      "source": [
        "def fashionably_late(arrivals, name):\n",
        "    \"\"\"Given an ordered list of arrivals to the party and a name, return whether the guest with that\n",
        "    name was fashionably late.\n",
        "    \"\"\"\n",
        "    order = arrivals.index(name)\n",
        "    \n",
        "    return order >= len(arrivals)/2 and order!= len(arrivals)-1\n",
        "\n"
      ],
      "execution_count": 28,
      "outputs": []
    }
  ]
}