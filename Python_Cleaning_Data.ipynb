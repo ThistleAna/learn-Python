{
  "nbformat": 4,
  "nbformat_minor": 0,
  "metadata": {
    "colab": {
      "name": "Python- Cleaning Data",
      "provenance": [],
      "authorship_tag": "ABX9TyPB8PvYvbLok1+oCvkw/ve3",
      "include_colab_link": true
    },
    "kernelspec": {
      "name": "python3",
      "display_name": "Python 3"
    },
    "language_info": {
      "name": "python"
    }
  },
  "cells": [
    {
      "cell_type": "markdown",
      "metadata": {
        "id": "view-in-github",
        "colab_type": "text"
      },
      "source": [
        "<a href=\"https://colab.research.google.com/github/ThistleAna/learn-Python/blob/main/Python_Cleaning_Data.ipynb\" target=\"_parent\"><img src=\"https://colab.research.google.com/assets/colab-badge.svg\" alt=\"Open In Colab\"/></a>"
      ]
    },
    {
      "cell_type": "markdown",
      "metadata": {
        "id": "nkUTU9QcxhEd"
      },
      "source": [
        "**Cleaning data**"
      ]
    },
    {
      "cell_type": "code",
      "metadata": {
        "colab": {
          "base_uri": "https://localhost:8080/"
        },
        "id": "_ZNhGywyxdB9",
        "outputId": "ea77f2f0-a0bd-4585-85cb-5ac48cde19f1"
      },
      "source": [
        "# Cleaning date in a list\n",
        "\n",
        "test_data = [\"1912\", \"1929\", \"1913-1923\",\n",
        "             \"(1951)\", \"1994\", \"1934\",\n",
        "             \"c. 1915\", \"1995\", \"c. 1912\",\n",
        "             \"(1988)\", \"2002\", \"1957-1959\",\n",
        "             \"c. 1955.\", \"c. 1970's\", \n",
        "             \"C. 1990-1999\"]\n",
        "# list of bad characters\n",
        "bad_chars = [\"(\",\")\",\"c\",\"C\",\".\",\"s\",\"'\", \" \"]\n",
        "\n",
        "# create function which accepts a str argument\n",
        "def strip_characters(string):\n",
        "    for char in bad_chars:\n",
        "        string = string.replace(char, \"\")\n",
        "    return string\n",
        "\n",
        "# create an empty list\n",
        "stripped_test_data = []\n",
        "\n",
        "# iterate over the strings in the test_data\n",
        "for row in test_data:\n",
        "    date = strip_characters(row) \n",
        "    # clean using above funct\n",
        "    stripped_test_data.append(date) \n",
        "    # append the cleaned str\n",
        "    \n",
        "print(stripped_test_data)\n",
        "\n"
      ],
      "execution_count": 1,
      "outputs": [
        {
          "output_type": "stream",
          "text": [
            "['1912', '1929', '1913-1923', '1951', '1994', '1934', '1915', '1995', '1912', '1988', '2002', '1957-1959', '1955', '1970', '1990-1999']\n"
          ],
          "name": "stdout"
        }
      ]
    }
  ]
}