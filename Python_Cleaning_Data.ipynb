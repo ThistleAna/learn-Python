{
  "nbformat": 4,
  "nbformat_minor": 0,
  "metadata": {
    "colab": {
      "name": "Python- Cleaning Data",
      "provenance": [],
      "authorship_tag": "ABX9TyM43BkQTM6OhvkSymJosg4k",
      "include_colab_link": true
    },
    "kernelspec": {
      "name": "python3",
      "display_name": "Python 3"
    },
    "language_info": {
      "name": "python"
    }
  },
  "cells": [
    {
      "cell_type": "markdown",
      "metadata": {
        "id": "view-in-github",
        "colab_type": "text"
      },
      "source": [
        "<a href=\"https://colab.research.google.com/github/ThistleAna/learn-Python/blob/main/Python_Cleaning_Data.ipynb\" target=\"_parent\"><img src=\"https://colab.research.google.com/assets/colab-badge.svg\" alt=\"Open In Colab\"/></a>"
      ]
    },
    {
      "cell_type": "markdown",
      "metadata": {
        "id": "nkUTU9QcxhEd"
      },
      "source": [
        "**Cleaning data**"
      ]
    },
    {
      "cell_type": "markdown",
      "metadata": {
        "id": "j-09q-g90QP6"
      },
      "source": [
        "**Excercise 1**\n",
        "Eliminiating characters in a list of year"
      ]
    },
    {
      "cell_type": "code",
      "metadata": {
        "colab": {
          "base_uri": "https://localhost:8080/"
        },
        "id": "_ZNhGywyxdB9",
        "outputId": "ea77f2f0-a0bd-4585-85cb-5ac48cde19f1"
      },
      "source": [
        "# Cleaning date in a list\n",
        "\n",
        "test_data = [\"1912\", \"1929\", \"1913-1923\",\n",
        "             \"(1951)\", \"1994\", \"1934\",\n",
        "             \"c. 1915\", \"1995\", \"c. 1912\",\n",
        "             \"(1988)\", \"2002\", \"1957-1959\",\n",
        "             \"c. 1955.\", \"c. 1970's\", \n",
        "             \"C. 1990-1999\"]\n",
        "# list of bad characters\n",
        "bad_chars = [\"(\",\")\",\"c\",\"C\",\".\",\"s\",\"'\", \" \"]\n",
        "\n",
        "# create function which accepts a str argument\n",
        "def strip_characters(string):\n",
        "    for char in bad_chars:\n",
        "        string = string.replace(char, \"\")\n",
        "    return string\n",
        "\n",
        "# create an empty list\n",
        "stripped_test_data = []\n",
        "\n",
        "# iterate over the strings in the test_data\n",
        "for row in test_data:\n",
        "    date = strip_characters(row) \n",
        "    # clean using above funct\n",
        "    stripped_test_data.append(date) \n",
        "    # append the cleaned str\n",
        "    \n",
        "print(stripped_test_data)\n",
        "\n"
      ],
      "execution_count": 1,
      "outputs": [
        {
          "output_type": "stream",
          "text": [
            "['1912', '1929', '1913-1923', '1951', '1994', '1934', '1915', '1995', '1912', '1988', '2002', '1957-1959', '1955', '1970', '1990-1999']\n"
          ],
          "name": "stdout"
        }
      ]
    },
    {
      "cell_type": "markdown",
      "metadata": {
        "id": "fe3VRKFu0OTz"
      },
      "source": [
        "**Excercise 2**\n",
        "\n",
        "'in' operator is used to check whether a specific key exists in a dictionary. We can use it in a similar way for strings"
      ]
    },
    {
      "cell_type": "code",
      "metadata": {
        "colab": {
          "base_uri": "https://localhost:8080/"
        },
        "id": "hmPS7fod0fVf",
        "outputId": "53d579ae-8dcd-4b2b-a0cd-1169f87c8c3a"
      },
      "source": [
        "# finding set of character in a word\n",
        "if \"car\" in \"carpet\":\n",
        "    print(\"The substring was found.\")\n",
        "else:\n",
        "    print(\"The substring was not found.\")"
      ],
      "execution_count": 2,
      "outputs": [
        {
          "output_type": "stream",
          "text": [
            "The substring was found.\n"
          ],
          "name": "stdout"
        }
      ]
    },
    {
      "cell_type": "code",
      "metadata": {
        "colab": {
          "base_uri": "https://localhost:8080/"
        },
        "id": "MfDavSUT0oQg",
        "outputId": "461553ee-1ed0-4e38-d00a-ca4d8e79ef1b"
      },
      "source": [
        "if \"mike\" in \"michael\":\n",
        "    print(\"The substring was found.\")\n",
        "else:\n",
        "    print(\"The substring was not found.\")"
      ],
      "execution_count": 3,
      "outputs": [
        {
          "output_type": "stream",
          "text": [
            "The substring was not found.\n"
          ],
          "name": "stdout"
        }
      ]
    },
    {
      "cell_type": "markdown",
      "metadata": {
        "id": "TI6xlNOY1CnZ"
      },
      "source": [
        "We usually need to split a string into two. For this, we'll use the str.split() method. This method is used to split a string into a list of strings. A quick example of how this method works is below"
      ]
    },
    {
      "cell_type": "code",
      "metadata": {
        "colab": {
          "base_uri": "https://localhost:8080/"
        },
        "id": "b31Sve_11M74",
        "outputId": "30b9d181-68ce-417a-c622-7e4245e27195"
      },
      "source": [
        "# split the string into two by removing '-'\n",
        "three_peat = \"1991-1993\"\n",
        "print(three_peat.split(\"-\"))"
      ],
      "execution_count": 5,
      "outputs": [
        {
          "output_type": "stream",
          "text": [
            "['1991', '1993']\n"
          ],
          "name": "stdout"
        }
      ]
    },
    {
      "cell_type": "code",
      "metadata": {
        "id": "UK1VIj7a8yoV"
      },
      "source": [
        "test_data = [\"1912\", \"1929\", \"1913-1923\",\n",
        "             \"(1951)\", \"1994\", \"1934\",\n",
        "             \"c. 1915\", \"1995\", \"c. 1912\",\n",
        "             \"(1988)\", \"2002\", \"1957-1959\",\n",
        "             \"c. 1955.\", \"c. 1970's\", \n",
        "             \"C. 1990-1999\"]\n",
        "\n",
        "bad_chars = [\"(\",\")\",\"c\",\"C\",\".\",\"s\",\"'\", \" \"]\n",
        "\n",
        "def strip_characters(string):\n",
        "    for char in bad_chars:\n",
        "        string = string.replace(char,\"\")\n",
        "    return string\n",
        "\n",
        "stripped_test_data = ['1912', '1929', '1913-1923',\n",
        "                      '1951', '1994', '1934',\n",
        "                      '1915', '1995', '1912',\n",
        "                      '1988', '2002', '1957-1959',\n",
        "                      '1955', '1970', '1990-1999']\n",
        "# create function\n",
        "def process_date(date):\n",
        "        # find the index with '-' character\n",
        "        if \"-\" in date:\n",
        "            new_date = date.split(\"-\")\n",
        "            # assign to new variables\n",
        "            date1 = new_date[0]\n",
        "            date2 = new_date[1]\n",
        "            #convert to int\n",
        "            date = (int(date1)+int(date2))/2\n",
        "            # round to nearest decimal\n",
        "            date = round(date)\n",
        "        else:\n",
        "            # if no '-' then convert to integer\n",
        "            date = int(date)\n",
        "        return date\n",
        "\n",
        "# create an empty list\n",
        "processed_test_data = []\n",
        "#loop over it using above function\n",
        "for row in stripped_test_data:\n",
        "    date = process_date(row)\n",
        "    processed_test_data.append(date)\n",
        "\n",
        "# iterate over moma list\n",
        "# for row in moma:\n",
        "    # assign the value from the Date col index 6 to d\n",
        "   # d = row[6]\n",
        "    # remove bad characters\n",
        "  #  d = strip_characters(d)\n",
        "    # convert the date using function\n",
        "  #  d = process_date(d)\n",
        " #   row[6] = d\n",
        "        \n",
        "            \n",
        "            \n",
        "            \n",
        "        \n",
        "        "
      ],
      "execution_count": 7,
      "outputs": []
    }
  ]
}